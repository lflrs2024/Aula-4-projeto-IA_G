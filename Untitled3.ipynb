{
  "nbformat": 4,
  "nbformat_minor": 0,
  "metadata": {
    "colab": {
      "provenance": [],
      "authorship_tag": "ABX9TyNik5dXXYk63b7snY7eGTEU",
      "include_colab_link": true
    },
    "kernelspec": {
      "name": "python3",
      "display_name": "Python 3"
    },
    "language_info": {
      "name": "python"
    }
  },
  "cells": [
    {
      "cell_type": "markdown",
      "metadata": {
        "id": "view-in-github",
        "colab_type": "text"
      },
      "source": [
        "<a href=\"https://colab.research.google.com/github/lflrs2024/Aula-4-projeto-IA_G/blob/main/Untitled3.ipynb\" target=\"_parent\"><img src=\"https://colab.research.google.com/assets/colab-badge.svg\" alt=\"Open In Colab\"/></a>"
      ]
    },
    {
      "cell_type": "code",
      "execution_count": null,
      "metadata": {
        "id": "3lU-n_25XfDY"
      },
      "outputs": [],
      "source": [
        "def calcular_preco_final(preco_original, desconto=0):\n",
        "  \"\"\"Calcula o preço final após o desconto.\"\"\"\n",
        "  return preco_original - (preco_original * (desconto / 100))\n",
        "\n",
        "def gerar_mensagem_promocional(nome_produto, desconto, preco_final):\n",
        "  \"\"\"Cria uma mensagem promocional.\"\"\"\n",
        "  if desconto > 0:\n",
        "    return f\"Aproveite! {nome_produto} com {desconto}% de desconto! Agora por apenas R${preco_final:.2f}.\"\n",
        "  else:\n",
        "    return f\"Confira! {nome_produto} por apenas R${preco_final:.2f}.\"\n",
        "\n",
        "# Entrada de dados\n",
        "nome_produto = input(\"Digite o nome do produto: \")\n",
        "preco_original = float(input(\"Digite o preço original: \"))\n",
        "tipo_comercio = input(\"Digite o tipo de comércio: \")\n",
        "desconto = float(input(\"Digite o desconto (em %, 0 para nenhum): \"))\n",
        "\n",
        "# Cálculo do preço final\n",
        "preco_final = calcular_preco_final(preco_original, desconto)\n",
        "\n",
        "# Exibição de resultados\n",
        "print(\"\\n--- Informações do Produto ---\")\n",
        "print(f\"Produto: {nome_produto}\")\n",
        "print(f\"Tipo de Comércio: {tipo_comercio}\")\n",
        "print(f\"Preço Original: R${preco_original:.2f}\")\n",
        "if desconto > 0:\n",
        "  print(f\"Desconto: {desconto}%\")\n",
        "print(f\"Preço Final: R${preco_final:.2f}\")\n",
        "\n",
        "# Mensagem promocional\n",
        "mensagem_promocao = gerar_mensagem_promocional(nome_produto, desconto, preco_final)\n",
        "print(\"\\n--- Mensagem Promocional ---\")\n",
        "print(mensagem_promocao)\n",
        "Use code with caution.\n",
        "Python\n",
        "Próximos Passos:\n",
        "Interface Gráfica: Escolha uma biblioteca como Tkinter, PyQt ou Kivy para criar uma interface visualmente atraente para o usuário.\n",
        "Armazenamento de Dados: Use um banco de dados (SQLite, MySQL, etc.) para salvar produtos, preços e histórico de vendas.\n",
        "Integração com Redes Sociais: Implemente APIs para permitir o compartilhamento de promoções no Facebook, Instagram, etc.\n",
        "Funcionalidades Adicionais: Explore opções como carrinho de compras, histórico de compras, sistema de recomendações e notificações push.\n",
        "Lembre-se: Este é apenas um ponto de partida. Criar um aplicativo completo exige tempo, esforço e constante aprendizado.\n",
        "Boa sorte com o desenvolvimento do seu aplicativo!"
      ]
    }
  ]
}