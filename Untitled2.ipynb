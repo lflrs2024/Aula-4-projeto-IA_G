{
  "nbformat": 4,
  "nbformat_minor": 0,
  "metadata": {
    "colab": {
      "provenance": [],
      "authorship_tag": "ABX9TyNIHJG/Ayxypr3yaMegrfTm",
      "include_colab_link": true
    },
    "kernelspec": {
      "name": "python3",
      "display_name": "Python 3"
    },
    "language_info": {
      "name": "python"
    }
  },
  "cells": [
    {
      "cell_type": "markdown",
      "metadata": {
        "id": "view-in-github",
        "colab_type": "text"
      },
      "source": [
        "<a href=\"https://colab.research.google.com/github/lflrs2024/Aula-4-projeto-IA_G/blob/main/Untitled2.ipynb\" target=\"_parent\"><img src=\"https://colab.research.google.com/assets/colab-badge.svg\" alt=\"Open In Colab\"/></a>"
      ]
    },
    {
      "cell_type": "code",
      "execution_count": null,
      "metadata": {
        "id": "aVRSLuPSiwIt"
      },
      "outputs": [],
      "source": [
        "import random\n",
        "\n",
        "def gerar_exercicios(operacao, qtd_exercicios, min_valor, max_valor):\n",
        "  \"\"\"\n",
        "  Gera uma lista de exercícios de matemática.\n",
        "\n",
        "  Args:\n",
        "      operacao: Uma string com a operação desejada (+, -, *, /).\n",
        "      qtd_exercicios: A quantidade de exercícios a serem gerados.\n",
        "      min_valor: O valor mínimo para os números nos exercícios.\n",
        "      max_valor: O valor máximo para os números nos exercícios.\n",
        "\n",
        "  Returns:\n",
        "      Uma lista de dicionários, onde cada dicionário representa um exercício\n",
        "      com as chaves 'pergunta' e 'resposta'.\n",
        "  \"\"\"\n",
        "  exercicios = []\n",
        "  for _ in range(qtd_exercicios):\n",
        "    num1 = random.randint(min_valor, max_valor)\n",
        "    num2 = random.randint(min_valor, max_valor)\n",
        "\n",
        "    if operacao == \"+\":\n",
        "      pergunta = f\"{num1} + {num2}\"\n",
        "      resposta = num1 + num2\n",
        "    elif operacao == \"-\":\n",
        "      pergunta = f\"{num1} - {num2}\"\n",
        "      resposta = num1 - num2\n",
        "    elif operacao == \"*\":\n",
        "      pergunta = f\"{num1} x {num2}\"\n",
        "      resposta = num1 * num2\n",
        "    elif operacao == \"/\":\n",
        "      # Para evitar divisão por zero\n",
        "      while num2 == 0:\n",
        "        num2 = random.randint(min_valor, max_valor)\n",
        "      pergunta = f\"{num1} / {num2}\"\n",
        "      resposta = num1 / num2\n",
        "    else:\n",
        "      raise ValueError(\"Operação inválida. Use +, -, *, ou /.\")\n",
        "\n",
        "    exercicios.append({\"pergunta\": pergunta, \"resposta\": resposta})\n",
        "\n",
        "  return exercicios\n",
        "\n",
        "\n",
        "def ministrar_aula(operacao, qtd_exercicios, min_valor, max_valor):\n",
        "  \"\"\"\n",
        "  Ministra uma aula de matemática com exercícios gerados aleatoriamente.\n",
        "\n",
        "  Args:\n",
        "      operacao: Uma string com a operação desejada (+, -, *, /).\n",
        "      qtd_exercicios: A quantidade de exercícios a serem gerados.\n",
        "      min_valor: O valor mínimo para os números nos exercícios.\n",
        "      max_valor: O valor máximo para os números nos exercícios.\n",
        "  \"\"\"\n",
        "  exercicios = gerar_exercicios(operacao, qtd_exercicios, min_valor, max_valor)\n",
        "\n",
        "  print(f\"## Aula de matemática: {operacao}\\n\")\n",
        "\n",
        "  for i, exercicio in enumerate(exercicios):\n",
        "    print(f\"Exercício {i+1}: {exercicio['pergunta']}\")\n",
        "    resposta_aluno = input(\"Resposta: \")\n",
        "\n",
        "    try:\n",
        "      resposta_aluno = float(resposta_aluno)\n",
        "    except ValueError:\n",
        "      print(\"Resposta inválida. Por favor, insira um número.\")\n",
        "      continue\n",
        "\n",
        "    if resposta_aluno == exercicio['resposta']:\n",
        "      print(\"Correto!\")\n",
        "    else:\n",
        "      print(f\"Incorreto. A resposta correta é {exercicio['resposta']}\")\n",
        "\n",
        "    print(\"-\" * 20)"
      ]
    },
    {
      "cell_type": "markdown",
      "source": [
        "# Nova seção"
      ],
      "metadata": {
        "id": "QCWmYImsjZT2"
      }
    },
    {
      "cell_type": "markdown",
      "source": [
        "Saudações Pessoal...\n",
        "\n",
        "Tentei fazer algo voltado a educação.\n",
        "Aula de matemática voltado a uma prática de exercícios.\n"
      ],
      "metadata": {
        "id": "Y8GXyRt6i0Tu"
      }
    }
  ]
}